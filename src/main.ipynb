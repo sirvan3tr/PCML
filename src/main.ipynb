{
 "cells": [
  {
   "cell_type": "code",
   "execution_count": 1,
   "id": "athletic-locator",
   "metadata": {},
   "outputs": [],
   "source": [
    "from bs4 import BeautifulSoup\n",
    "import re"
   ]
  },
  {
   "cell_type": "code",
   "execution_count": 13,
   "id": "specialized-nomination",
   "metadata": {},
   "outputs": [],
   "source": [
    "def split_tag(tag):\n",
    "  \"\"\"Split a tag to get the name of the actual tag\"\"\"\n",
    "  try:\n",
    "    split_tag = lambda tag, point : tag.split(point)\n",
    "    point_list = ['#', '.', ' ', '\\n', '\\t']\n",
    "    finder = [9999,'']\n",
    "    for index, p in enumerate(point_list):\n",
    "      pos = tag.find(p)\n",
    "      if pos < finder[0] and pos > 0:\n",
    "        finder[0] = pos\n",
    "        finder[1] = p\n",
    "    return tag.split(finder[1], 1)[0]\n",
    "  except:\n",
    "    return tag"
   ]
  },
  {
   "cell_type": "code",
   "execution_count": 14,
   "id": "available-heath",
   "metadata": {},
   "outputs": [],
   "source": [
    "def get_class_id(element, type):\n",
    "  \"\"\"Returns class or id attribute in proper HTML form\"\"\"\n",
    "  attr = 'class' if type == '\\.' else 'id'\n",
    "  matches = re.search(f\"({type}+\\w+\\S+)\", element)\n",
    "  if matches is not None:\n",
    "    split_del = '.' if type =='\\.' else type\n",
    "    attrs = matches.group(0).split(split_del)\n",
    "    new_element = element.replace(matches.group(0), '')\n",
    "    return f\"{attr}=\\\"{' '.join(attrs[1:])}\\\"\", new_element\n",
    "  return None, element\n",
    "\n",
    "def get_attributes(element):\n",
    "  \"\"\"\n",
    "    Get the attributes of the elements.\n",
    "    1. Get classes\n",
    "    2. Get id\n",
    "    3. Other attrs\n",
    "  \"\"\"\n",
    "  combined_attrs = ''\n",
    "  classes, new_el = get_class_id(element, '\\.')\n",
    "  id, _ = get_class_id(new_el, '#')\n",
    "  if classes is not None:\n",
    "    combined_attrs += classes\n",
    "  \n",
    "  if id is not None:\n",
    "    combined_attrs += id\n",
    "\n",
    "  return combined_attrs"
   ]
  },
  {
   "cell_type": "code",
   "execution_count": 15,
   "id": "sitting-album",
   "metadata": {},
   "outputs": [],
   "source": [
    "def get_childs(x, i, t, end=\"\"):\n",
    "  \"\"\"Recursive function that gets the child elements from a starting position\"\"\"\n",
    "  if i >= len(x):\n",
    "    return \"\"\n",
    "  tabs_count = x[i].count('\\t')\n",
    "  xi = x[i]\n",
    "  attrs = get_attributes(xi)\n",
    "  attrs = ' ' + attrs\n",
    "  xi = split_tag(x[i])\n",
    "  \n",
    "  if tabs_count > t or i > len(x):\n",
    "    h = get_childs(x, i+1, tabs_count, '</'+xi+'>')\n",
    "    #xi = split_tag(x[i])\n",
    "    return '<'+xi+attrs+'>' + h + end\n",
    "  elif tabs_count == t:\n",
    "    h = get_childs(x, i+1, tabs_count, end)\n",
    "    return '<'+xi+attrs+'></'+xi+'>' + h\n",
    "  elif tabs_count < t:\n",
    "    if i+1 <= len(x):\n",
    "      h = get_childs(x, i+1, tabs_count)\n",
    "    else:\n",
    "      h = \"\"\n",
    "    return '<'+xi+attrs+'></'+xi+'>' + end + h\n",
    "  else:\n",
    "    return \"\""
   ]
  },
  {
   "cell_type": "code",
   "execution_count": 16,
   "id": "pressed-collectible",
   "metadata": {},
   "outputs": [],
   "source": [
    "def init_string(string):\n",
    "  string = string.replace('  ', '\\t')\n",
    "  string = string.split(':')\n",
    "  return string\n",
    "\n",
    "def get_pretty_html(string):\n",
    "  pcml = get_childs(init_string(string), 1, 0)\n",
    "  return BeautifulSoup(pcml, 'html.parser').prettify()"
   ]
  },
  {
   "cell_type": "code",
   "execution_count": 17,
   "id": "automatic-logistics",
   "metadata": {},
   "outputs": [
    {
     "name": "stdout",
     "output_type": "stream",
     "text": [
      "<div>\n",
      "</div>\n",
      "<main class=\"vmainClass1 vmainClass2\">\n",
      " <div id=\"main-container\">\n",
      "  <div class=\"class2\" id=\"keyboard-shortcut\">\n",
      "  </div>\n",
      "  <div>\n",
      "  </div>\n",
      "  <div>\n",
      "  </div>\n",
      " </div>\n",
      " <div class=\"form-container\">\n",
      "  <form>\n",
      "  </form>\n",
      " </div>\n",
      " <v-icon>\n",
      "  <v-con>\n",
      "  </v-con>\n",
      " </v-icon>\n",
      "</main>\n"
     ]
    }
   ],
   "source": [
    "test_string = '''\n",
    ":div\n",
    ":main.vmainClass1.vmainClass2\n",
    "  :div#main-container\n",
    "    :div#keyboard-shortcut.class2\n",
    "    :div\n",
    "    :div\n",
    "  :div.form-container\n",
    "    :form method=post\n",
    "  :v-icon\n",
    "    :v-con'''\n",
    "\n",
    "print(get_pretty_html(test_string))"
   ]
  },
  {
   "cell_type": "code",
   "execution_count": null,
   "id": "official-editing",
   "metadata": {},
   "outputs": [],
   "source": []
  }
 ],
 "metadata": {
  "kernelspec": {
   "display_name": "Python 3",
   "language": "python",
   "name": "python3"
  },
  "language_info": {
   "codemirror_mode": {
    "name": "ipython",
    "version": 3
   },
   "file_extension": ".py",
   "mimetype": "text/x-python",
   "name": "python",
   "nbconvert_exporter": "python",
   "pygments_lexer": "ipython3",
   "version": "3.8.2"
  }
 },
 "nbformat": 4,
 "nbformat_minor": 5
}

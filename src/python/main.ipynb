{
 "cells": [
  {
   "cell_type": "code",
   "execution_count": 111,
   "id": "510e459d",
   "metadata": {},
   "outputs": [],
   "source": [
    "from bs4 import BeautifulSoup\n",
    "import re"
   ]
  },
  {
   "cell_type": "code",
   "execution_count": 112,
   "id": "013b63fe",
   "metadata": {},
   "outputs": [],
   "source": [
    "def split_tag(tag):\n",
    "  \"\"\"Split a tag to get the name of the actual tag\"\"\"\n",
    "  try:\n",
    "    split_tag = lambda tag, point : tag.split(point)\n",
    "    point_list = ['#', '.', ' ', '\\n', '\\t']\n",
    "    finder = [9999,'']\n",
    "    for index, p in enumerate(point_list):\n",
    "      pos = tag.find(p)\n",
    "      if pos < finder[0] and pos > 0:\n",
    "        finder[0] = pos\n",
    "        finder[1] = p\n",
    "    return tag.split(finder[1], 1)[0]\n",
    "  except:\n",
    "    return tag"
   ]
  },
  {
   "cell_type": "code",
   "execution_count": 113,
   "id": "8e091a12",
   "metadata": {},
   "outputs": [],
   "source": [
    "def get_class_id(element, type):\n",
    "    \"\"\"Returns class or id attribute in proper HTML form\"\"\"\n",
    "    attr = 'class' if type == '\\.' else 'id'\n",
    "    matches = re.search(f\"({type}+\\w+\\S+)\", element)\n",
    "    if matches is not None:\n",
    "        split_del = '.' if type =='\\.' else type\n",
    "        attrs = matches.group(0).split(split_del)\n",
    "        new_element = element.replace(matches.group(0), '')\n",
    "        return f\"{attr}=\\\"{' '.join(attrs[1:])}\\\"\", new_element\n",
    "    return None, element\n",
    "\n",
    "def get_attributes(element: str):\n",
    "    \"\"\"\n",
    "    Get the attributes of the elements.\n",
    "    1. Get classes\n",
    "    2. Get id\n",
    "    3. Other attrs\n",
    "    \"\"\"\n",
    "    combined_attrs = ''\n",
    "    classes, new_el = get_class_id(element, '\\.')\n",
    "    id, _ = get_class_id(new_el, '#')\n",
    "\n",
    "    if classes is not None:\n",
    "        combined_attrs += classes\n",
    "\n",
    "    if id is not None:\n",
    "        combined_attrs += id\n",
    "\n",
    "    if '(' in element:\n",
    "        combined_attrs += element[element.find('(')+1:element.rfind(')')]\n",
    "\n",
    "    return combined_attrs"
   ]
  },
  {
   "cell_type": "code",
   "execution_count": 114,
   "id": "ad0f1893",
   "metadata": {},
   "outputs": [],
   "source": [
    "def get_content(element):\n",
    "    \"\"\"\n",
    "    Get the main content of the element.\n",
    "    The text should be between quotation marks.\n",
    "    e.g. \n",
    "        :div \"I am a content\"\n",
    "        <div>I am a content</div>\n",
    "    \"\"\"\n",
    "    matches = re.search('\"(.*?)\"', element)\n",
    "    if matches is not None:\n",
    "        return matches.group(0).replace('\"','')\n",
    "    return \"\""
   ]
  },
  {
   "cell_type": "code",
   "execution_count": 115,
   "id": "68c72490",
   "metadata": {},
   "outputs": [],
   "source": [
    "def get_childs(pcml: list, i: int, t: int, end=\"\") -> str:\n",
    "  \"\"\"\n",
    "  Recursive function that gets the child elements from a starting position\n",
    "  i = ith element\n",
    "  \"\"\"\n",
    "  if i >= len(pcml):\n",
    "    return \"\"\n",
    "\n",
    "  tabs_count = pcml[i].count('\\t')\n",
    "  attrs = get_attributes(pcml[i])\n",
    "  attrs = '' if attrs == '' else ' ' + attrs\n",
    "  tag = split_tag(pcml[i]) # element tag, e.g. div\n",
    "  content = get_content(pcml[i]) # content of the element\n",
    "\n",
    "  if tabs_count > t or i > len(pcml):\n",
    "    h = get_childs(pcml, i+1, tabs_count, f\"</{tag}>\")\n",
    "    return f\"<{tag}{attrs}>{content}{h}{end}\"\n",
    "  elif tabs_count == t:\n",
    "    h = get_childs(pcml, i+1, tabs_count, end)\n",
    "    return f\"<{tag}{attrs}>{content}</{tag}>{h}\"\n",
    "  elif tabs_count < t:\n",
    "    h = get_childs(pcml, i+1, tabs_count) if i+1 <= len(pcml) else \"\"\n",
    "    return f\"<{tag}{attrs}>{content}</{tag}>{end}{h}\"\n",
    "  else:\n",
    "    return \"\""
   ]
  },
  {
   "cell_type": "code",
   "execution_count": 116,
   "id": "e31abd80",
   "metadata": {},
   "outputs": [],
   "source": [
    "def tokenise(pcml: str) -> list:\n",
    "    return pcml.replace('  ', '\\t').split(':')\n",
    "\n",
    "def get_pretty_html(pcml: str) -> str:\n",
    "    pcml = get_childs(tokenise(pcml), 1, 0)\n",
    "    return BeautifulSoup(pcml, 'html.parser').prettify()"
   ]
  },
  {
   "cell_type": "code",
   "execution_count": 117,
   "id": "11964d90",
   "metadata": {},
   "outputs": [
    {
     "name": "stdout",
     "output_type": "stream",
     "text": [
      "<div>\n",
      "</div>\n",
      "<main class=\"vmainClass1 vmainClass2\" outlined=\"\" type=\"input\">\n",
      " input\n",
      " <div id=\"main-container\">\n",
      "  <div class=\"class2\" id=\"keyboard-shortcut\">\n",
      "  </div>\n",
      "  <div>\n",
      "   I am div content\n",
      "  </div>\n",
      "  <div>\n",
      "   Another content\n",
      "  </div>\n",
      " </div>\n",
      " <div class=\"form-container\">\n",
      "  <form>\n",
      "  </form>\n",
      " </div>\n",
      " <v-icon>\n",
      "  <v-con>\n",
      "  </v-con>\n",
      " </v-icon>\n",
      "</main>\n"
     ]
    }
   ],
   "source": [
    "test_string = '''\n",
    ":div\n",
    ":main.vmainClass1.vmainClass2 (type=\"input\" outlined)\n",
    "  :div#main-container\n",
    "    :div#keyboard-shortcut.class2\n",
    "    :div \"I am div content\"\n",
    "    :div \"Another content\"\n",
    "  :div.form-container\n",
    "    :form method=post\n",
    "  :v-icon\n",
    "    :v-con'''\n",
    "\n",
    "print(get_pretty_html(test_string))"
   ]
  },
  {
   "cell_type": "code",
   "execution_count": 110,
   "id": "70c19e22",
   "metadata": {},
   "outputs": [
    {
     "name": "stdout",
     "output_type": "stream",
     "text": [
      "<div class=\"vmain\" hello=\"\" outlined=\"\">\n",
      " <div>\n",
      "  No\n",
      " </div>\n",
      " <span>\n",
      "  Hello\n",
      " </span>\n",
      "</div>\n"
     ]
    }
   ],
   "source": [
    "test_string = '''\n",
    ":div.vmain (outlined hello)\n",
    "    :div \"No\"\n",
    "    :span \"Hello\"'''\n",
    "\n",
    "print(get_pretty_html(test_string))"
   ]
  },
  {
   "cell_type": "code",
   "execution_count": null,
   "id": "99ed1b82",
   "metadata": {},
   "outputs": [],
   "source": []
  },
  {
   "cell_type": "code",
   "execution_count": null,
   "id": "b20755a6",
   "metadata": {},
   "outputs": [],
   "source": []
  }
 ],
 "metadata": {
  "kernelspec": {
   "display_name": "Python 3",
   "language": "python",
   "name": "python3"
  },
  "language_info": {
   "codemirror_mode": {
    "name": "ipython",
    "version": 3
   },
   "file_extension": ".py",
   "mimetype": "text/x-python",
   "name": "python",
   "nbconvert_exporter": "python",
   "pygments_lexer": "ipython3",
   "version": "3.9.4"
  }
 },
 "nbformat": 4,
 "nbformat_minor": 5
}
